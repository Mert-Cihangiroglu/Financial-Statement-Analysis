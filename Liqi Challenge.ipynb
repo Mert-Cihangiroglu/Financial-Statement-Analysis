{
 "cells": [
  {
   "cell_type": "markdown",
   "id": "a88d4149",
   "metadata": {},
   "source": [
    "# LIQI Challenge for ABC Company"
   ]
  },
  {
   "cell_type": "markdown",
   "id": "a57cac63",
   "metadata": {},
   "source": [
    "---------\n",
    "Objective: \n",
    "\n",
    "Prepare a report for the lending manager to help him/her decide whether to approve the short-term (<12 months) funding request from ABC Company.\n",
    "\n",
    "We are given the filed financial statement for 2021, and also transactions for the year of 2022. Based on 2 years of data I'll try to generate a report for the lending manager.\n",
    " \n",
    "Key Metrics to extract to asses the ABC Company in 2022:\n",
    "\n",
    "- Liquidity\n",
    "- Solvency\n",
    "- Profitability\n",
    "\n",
    "A company's liquidity indicates its capacity to endure short-term difficulties, while solvency reveals its capability to meet long-term debt and obligations. Profitability, on the other hand, indicates the ability to generate cash flows and net income from inputs.\n",
    "\n",
    "\n",
    "\n",
    "---------"
   ]
  },
  {
   "cell_type": "code",
   "execution_count": 6,
   "id": "9b7effc5",
   "metadata": {},
   "outputs": [],
   "source": [
    "# Import Libraries\n",
    "# matplotlib - To show plots.\n",
    "# GoogleTranslator - To translate the text financial statement we will analyze.\n",
    "# pandas - to work with data frames.\n",
    "# parse Xml file \n",
    "\n",
    "from deep_translator import GoogleTranslator\n",
    "import matplotlib.pyplot as plt\n",
    "import pandas as pd\n",
    "import json\n",
    "import xmltodict\n",
    "import numpy as np"
   ]
  },
  {
   "cell_type": "code",
   "execution_count": 7,
   "id": "eb61d21a",
   "metadata": {},
   "outputs": [],
   "source": [
    "with open('data/financial_statements.xml', 'r') as file:\n",
    "    financial_statements = file.read()\n",
    "\n",
    "parsed_fs = xmltodict.parse(financial_statements)\n",
    "\n",
    "with open('data/financial_statements.json', 'w') as file:\n",
    "    json.dump(parsed_fs , file)\n",
    "    \n",
    "f = open('data/financial_statements.json')\n",
    "  \n",
    "# returns JSON object as a dictionary\n",
    "financial_statements = json.load(f)\n",
    "\n",
    "transactions = pd.read_csv('data/transactions.csv')"
   ]
  },
  {
   "cell_type": "markdown",
   "id": "c06a55ee",
   "metadata": {},
   "source": [
    "## Transactions Data Pre-processing"
   ]
  },
  {
   "cell_type": "code",
   "execution_count": 8,
   "id": "7c6bde65",
   "metadata": {},
   "outputs": [
    {
     "name": "stdout",
     "output_type": "stream",
     "text": [
      "<class 'pandas.core.frame.DataFrame'>\n",
      "RangeIndex: 115 entries, 0 to 114\n",
      "Data columns (total 3 columns):\n",
      " #   Column     Non-Null Count  Dtype \n",
      "---  ------     --------------  ----- \n",
      " 0   data       115 non-null    object\n",
      " 1   categoria  115 non-null    object\n",
      " 2   amount     115 non-null    object\n",
      "dtypes: object(3)\n",
      "memory usage: 2.8+ KB\n"
     ]
    }
   ],
   "source": [
    "transactions.info()"
   ]
  },
  {
   "cell_type": "code",
   "execution_count": 9,
   "id": "9e5987cd",
   "metadata": {},
   "outputs": [
    {
     "data": {
      "text/plain": [
       "Index(['data ', 'categoria', 'amount'], dtype='object')"
      ]
     },
     "execution_count": 9,
     "metadata": {},
     "output_type": "execute_result"
    }
   ],
   "source": [
    "# Realize that 'data ' has a space break after the letter 'a'.\n",
    "transactions.columns"
   ]
  },
  {
   "cell_type": "code",
   "execution_count": 10,
   "id": "50b71cc4",
   "metadata": {},
   "outputs": [
    {
     "data": {
      "text/html": [
       "<div>\n",
       "<style scoped>\n",
       "    .dataframe tbody tr th:only-of-type {\n",
       "        vertical-align: middle;\n",
       "    }\n",
       "\n",
       "    .dataframe tbody tr th {\n",
       "        vertical-align: top;\n",
       "    }\n",
       "\n",
       "    .dataframe thead th {\n",
       "        text-align: right;\n",
       "    }\n",
       "</style>\n",
       "<table border=\"1\" class=\"dataframe\">\n",
       "  <thead>\n",
       "    <tr style=\"text-align: right;\">\n",
       "      <th></th>\n",
       "      <th>data</th>\n",
       "      <th>categoria</th>\n",
       "      <th>amount</th>\n",
       "    </tr>\n",
       "  </thead>\n",
       "  <tbody>\n",
       "    <tr>\n",
       "      <th>0</th>\n",
       "      <td>04/01/2022</td>\n",
       "      <td>INCASSO FATTURA</td>\n",
       "      <td>€ 5.000,00</td>\n",
       "    </tr>\n",
       "    <tr>\n",
       "      <th>1</th>\n",
       "      <td>13/01/2022</td>\n",
       "      <td>INCASSO FATTURA</td>\n",
       "      <td>€ 4.800,00</td>\n",
       "    </tr>\n",
       "    <tr>\n",
       "      <th>2</th>\n",
       "      <td>15/01/2022</td>\n",
       "      <td>STIPENDI</td>\n",
       "      <td>-€ 6.000,00</td>\n",
       "    </tr>\n",
       "    <tr>\n",
       "      <th>3</th>\n",
       "      <td>15/01/2022</td>\n",
       "      <td>RIMBORSO FINANZIAMENTO</td>\n",
       "      <td>-€ 1.200,00</td>\n",
       "    </tr>\n",
       "    <tr>\n",
       "      <th>4</th>\n",
       "      <td>22/01/2022</td>\n",
       "      <td>INCASSO FATTURA</td>\n",
       "      <td>€ 5.400,00</td>\n",
       "    </tr>\n",
       "    <tr>\n",
       "      <th>5</th>\n",
       "      <td>30/01/2022</td>\n",
       "      <td>UTENZE</td>\n",
       "      <td>-€ 800,00</td>\n",
       "    </tr>\n",
       "    <tr>\n",
       "      <th>6</th>\n",
       "      <td>31/01/2022</td>\n",
       "      <td>INCASSO FATTURA</td>\n",
       "      <td>€ 5.466,67</td>\n",
       "    </tr>\n",
       "    <tr>\n",
       "      <th>7</th>\n",
       "      <td>31/01/2022</td>\n",
       "      <td>PAGAMENTO FORNITORI</td>\n",
       "      <td>-€ 4.000,67</td>\n",
       "    </tr>\n",
       "    <tr>\n",
       "      <th>8</th>\n",
       "      <td>09/02/2022</td>\n",
       "      <td>INCASSO FATTURA</td>\n",
       "      <td>€ 5.666,67</td>\n",
       "    </tr>\n",
       "    <tr>\n",
       "      <th>9</th>\n",
       "      <td>09/02/2022</td>\n",
       "      <td>PAGAMENTO FORNITORI</td>\n",
       "      <td>-€ 3.800,67</td>\n",
       "    </tr>\n",
       "  </tbody>\n",
       "</table>\n",
       "</div>"
      ],
      "text/plain": [
       "        data                categoria       amount\n",
       "0  04/01/2022         INCASSO FATTURA   € 5.000,00\n",
       "1  13/01/2022         INCASSO FATTURA   € 4.800,00\n",
       "2  15/01/2022                STIPENDI  -€ 6.000,00\n",
       "3  15/01/2022  RIMBORSO FINANZIAMENTO  -€ 1.200,00\n",
       "4  22/01/2022         INCASSO FATTURA   € 5.400,00\n",
       "5  30/01/2022                  UTENZE    -€ 800,00\n",
       "6  31/01/2022         INCASSO FATTURA   € 5.466,67\n",
       "7  31/01/2022     PAGAMENTO FORNITORI  -€ 4.000,67\n",
       "8  09/02/2022         INCASSO FATTURA   € 5.666,67\n",
       "9  09/02/2022     PAGAMENTO FORNITORI  -€ 3.800,67"
      ]
     },
     "execution_count": 10,
     "metadata": {},
     "output_type": "execute_result"
    }
   ],
   "source": [
    "# Check the transactions data examples.\n",
    "transactions.head(10)"
   ]
  },
  {
   "cell_type": "markdown",
   "id": "85da47cd",
   "metadata": {},
   "source": [
    "---- \n",
    "\n",
    " - We can observe that categoria has different types of transactions. \n",
    " - To work with amount data, we need to convert it to float from string.\n",
    "\n",
    "----\n"
   ]
  },
  {
   "cell_type": "code",
   "execution_count": 11,
   "id": "02822edc",
   "metadata": {},
   "outputs": [
    {
     "name": "stderr",
     "output_type": "stream",
     "text": [
      "/var/folders/zs/v8gw8g596vjbsqn51ryrf4b00000gn/T/ipykernel_41151/603711732.py:2: FutureWarning: The default value of regex will change from True to False in a future version. In addition, single character regular expressions will *not* be treated as literal strings when regex=True.\n",
      "  transactions['amount'] = pd.to_numeric(transactions['amount'].str.replace('€','').str.replace(' ','').str.replace('.','').str.replace(',','.'))\n"
     ]
    }
   ],
   "source": [
    "# Convert amount column into numeric.\n",
    "transactions['amount'] = pd.to_numeric(transactions['amount'].str.replace('€','').str.replace(' ','').str.replace('.','').str.replace(',','.'))\n",
    "transactions[str(transactions.columns[0])] = pd.to_datetime(transactions[str(transactions.columns[0])], format='%d/%m/%Y')\n",
    "\n",
    "# Translate the 'Categoria' into english.\n",
    "translator = GoogleTranslator()\n",
    "transactions['categoria'] = transactions['categoria'].apply(lambda x: translator.translate(x))"
   ]
  },
  {
   "cell_type": "code",
   "execution_count": 12,
   "id": "2c637cc1",
   "metadata": {},
   "outputs": [
    {
     "name": "stdout",
     "output_type": "stream",
     "text": [
      "2022-01-04 00:00:00 INVOICE COLLECTION 5000.0\n",
      "2022-01-13 00:00:00 INVOICE COLLECTION 4800.0\n",
      "2022-01-15 00:00:00 SALARIES -6000.0\n",
      "2022-01-15 00:00:00 FINANCING REFUND -1200.0\n",
      "2022-01-22 00:00:00 INVOICE COLLECTION 5400.0\n",
      "2022-01-30 00:00:00 UTILITIES -800.0\n",
      "2022-01-31 00:00:00 INVOICE COLLECTION 5466.67\n",
      "2022-01-31 00:00:00 SUPPLIER PAYMENT -4000.67\n",
      "2022-02-09 00:00:00 INVOICE COLLECTION 5666.67\n",
      "2022-02-09 00:00:00 SUPPLIER PAYMENT -3800.67\n",
      "2022-02-15 00:00:00 SALARIES -6000.0\n",
      "2022-02-15 00:00:00 FINANCING REFUND -1200.0\n",
      "2022-02-18 00:00:00 INVOICE COLLECTION 5866.67\n",
      "2022-02-18 00:00:00 SUPPLIER PAYMENT -4300.67\n",
      "2022-02-27 00:00:00 INVOICE COLLECTION 6066.67\n",
      "2022-02-27 00:00:00 SUPPLIER PAYMENT -4334.0\n",
      "2022-02-28 00:00:00 UTILITIES -804.49\n",
      "2022-03-08 00:00:00 INVOICE COLLECTION 6266.67\n",
      "2022-03-08 00:00:00 SUPPLIER PAYMENT -4484.0\n",
      "2022-03-15 00:00:00 SALARIES -6000.0\n",
      "2022-03-15 00:00:00 FINANCING REFUND -1200.0\n",
      "2022-03-17 00:00:00 INVOICE COLLECTION 6466.67\n",
      "2022-03-17 00:00:00 SUPPLIER PAYMENT -4634.0\n",
      "2022-03-26 00:00:00 INVOICE COLLECTION 6666.67\n",
      "2022-03-26 00:00:00 SUPPLIER PAYMENT -4784.0\n",
      "2022-03-29 00:00:00 UTILITIES -802.15\n",
      "2022-04-04 00:00:00 INVOICE COLLECTION 6866.67\n",
      "2022-04-04 00:00:00 SUPPLIER PAYMENT -4934.0\n",
      "2022-04-13 00:00:00 INVOICE COLLECTION 7066.67\n",
      "2022-04-13 00:00:00 SUPPLIER PAYMENT -5084.0\n",
      "2022-04-15 00:00:00 SALARIES -6000.0\n",
      "2022-04-15 00:00:00 FINANCING REFUND -1200.0\n",
      "2022-04-22 00:00:00 INVOICE COLLECTION 7266.67\n",
      "2022-04-22 00:00:00 SUPPLIER PAYMENT -5234.0\n",
      "2022-04-27 00:00:00 UTILITIES -809.96\n",
      "2022-05-01 00:00:00 INVOICE COLLECTION 7466.67\n",
      "2022-05-01 00:00:00 SUPPLIER PAYMENT -5384.0\n",
      "2022-05-10 00:00:00 INVOICE COLLECTION 7666.67\n",
      "2022-05-10 00:00:00 SUPPLIER PAYMENT -5534.0\n",
      "2022-05-15 00:00:00 SALARIES -6000.0\n",
      "2022-05-15 00:00:00 FINANCING REFUND -1200.0\n",
      "2022-05-19 00:00:00 INVOICE COLLECTION 7866.67\n",
      "2022-05-19 00:00:00 SUPPLIER PAYMENT -5684.0\n",
      "2022-05-26 00:00:00 UTILITIES -808.45\n",
      "2022-05-28 00:00:00 INVOICE COLLECTION 8066.67\n",
      "2022-05-28 00:00:00 SUPPLIER PAYMENT -5834.0\n",
      "2022-05-30 00:00:00 FUNDING DISTRIBUTION 10000.0\n",
      "2022-06-06 00:00:00 INVOICE COLLECTION 8266.67\n",
      "2022-06-06 00:00:00 SUPPLIER PAYMENT -5984.0\n",
      "2022-06-15 00:00:00 SALARIES -8000.0\n",
      "2022-06-15 00:00:00 INVOICE COLLECTION 8466.67\n",
      "2022-06-15 00:00:00 SUPPLIER PAYMENT -6134.0\n",
      "2022-06-15 00:00:00 FINANCING REFUND -1700.0\n",
      "2022-06-24 00:00:00 UTILITIES -808.56\n",
      "2022-06-24 00:00:00 INVOICE COLLECTION 8666.67\n",
      "2022-06-24 00:00:00 SUPPLIER PAYMENT -6284.0\n",
      "2022-07-03 00:00:00 INVOICE COLLECTION 8866.67\n",
      "2022-07-03 00:00:00 SUPPLIER PAYMENT -6434.0\n",
      "2022-07-12 00:00:00 INVOICE COLLECTION 9066.67\n",
      "2022-07-12 00:00:00 SUPPLIER PAYMENT -6584.0\n",
      "2022-07-15 00:00:00 SALARIES -8000.0\n",
      "2022-07-15 00:00:00 FINANCING REFUND -1700.0\n",
      "2022-07-21 00:00:00 INVOICE COLLECTION 9266.67\n",
      "2022-07-21 00:00:00 SUPPLIER PAYMENT -6734.0\n",
      "2022-07-23 00:00:00 UTILITIES -820.0\n",
      "2022-07-30 00:00:00 INVOICE COLLECTION 9466.67\n",
      "2022-07-30 00:00:00 SUPPLIER PAYMENT -6884.0\n",
      "2022-08-08 00:00:00 INVOICE COLLECTION 9666.67\n",
      "2022-08-08 00:00:00 SUPPLIER PAYMENT -7034.0\n",
      "2022-08-15 00:00:00 INVOICE PAYMENT -8000.0\n",
      "2022-08-15 00:00:00 FINANCING REFUND -1700.0\n",
      "2022-08-17 00:00:00 INVOICE COLLECTION 9866.67\n",
      "2022-08-17 00:00:00 SUPPLIER PAYMENT -7184.0\n",
      "2022-08-21 00:00:00 UTILITIES -850.0\n",
      "2022-08-26 00:00:00 INVOICE COLLECTION 10066.67\n",
      "2022-08-26 00:00:00 SUPPLIER PAYMENT -7334.0\n",
      "2022-09-04 00:00:00 INVOICE COLLECTION 10266.67\n",
      "2022-09-04 00:00:00 SUPPLIER PAYMENT -7484.0\n",
      "2022-09-13 00:00:00 INVOICE COLLECTION 10466.67\n",
      "2022-09-13 00:00:00 SUPPLIER PAYMENT -7634.0\n",
      "2022-09-15 00:00:00 INVOICE PAYMENT -8000.0\n",
      "2022-09-15 00:00:00 FINANCING REFUND -1700.0\n",
      "2022-09-19 00:00:00 UTILITIES -853.45\n",
      "2022-09-22 00:00:00 INVOICE COLLECTION 10666.67\n",
      "2022-09-22 00:00:00 SUPPLIER PAYMENT -7784.0\n",
      "2022-10-01 00:00:00 INVOICE COLLECTION 10866.67\n",
      "2022-10-01 00:00:00 SUPPLIER PAYMENT -7934.0\n",
      "2022-10-10 00:00:00 INVOICE COLLECTION 11066.67\n",
      "2022-10-10 00:00:00 SUPPLIER PAYMENT -8084.0\n",
      "2022-10-15 00:00:00 INVOICE PAYMENT -8000.0\n",
      "2022-10-15 00:00:00 FINANCING REFUND -1700.0\n",
      "2022-10-18 00:00:00 UTILITIES -850.85\n",
      "2022-10-19 00:00:00 INVOICE COLLECTION 11266.67\n",
      "2022-10-19 00:00:00 SUPPLIER PAYMENT -8234.0\n",
      "2022-10-28 00:00:00 INVOICE COLLECTION 11466.67\n",
      "2022-10-28 00:00:00 SUPPLIER PAYMENT -8384.0\n",
      "2022-11-06 00:00:00 INVOICE COLLECTION 11666.67\n",
      "2022-11-06 00:00:00 SUPPLIER PAYMENT -8534.0\n",
      "2022-11-15 00:00:00 INVOICE PAYMENT -8000.0\n",
      "2022-11-15 00:00:00 INVOICE COLLECTION 11866.67\n",
      "2022-11-15 00:00:00 SUPPLIER PAYMENT -8684.0\n",
      "2022-11-15 00:00:00 FINANCING REFUND -1700.0\n",
      "2022-11-16 00:00:00 UTILITIES -858.4\n",
      "2022-11-24 00:00:00 INVOICE COLLECTION 12066.67\n",
      "2022-11-24 00:00:00 SUPPLIER PAYMENT -8834.0\n",
      "2022-12-03 00:00:00 INVOICE COLLECTION 12266.67\n",
      "2022-12-03 00:00:00 SUPPLIER PAYMENT -8984.0\n",
      "2022-12-12 00:00:00 INVOICE COLLECTION 12466.67\n",
      "2022-12-12 00:00:00 SUPPLIER PAYMENT -9134.0\n",
      "2022-12-15 00:00:00 INVOICE PAYMENT -8000.0\n",
      "2022-12-15 00:00:00 FINANCING REFUND -1700.0\n",
      "2022-12-21 00:00:00 INVOICE COLLECTION 12666.67\n",
      "2022-12-21 00:00:00 SUPPLIER PAYMENT -9284.0\n",
      "2022-12-30 00:00:00 INVOICE COLLECTION 12866.67\n",
      "2022-12-30 00:00:00 SUPPLIER PAYMENT -9434.0\n"
     ]
    }
   ],
   "source": [
    "# Check the results\n",
    "for index, row in transactions.iterrows():\n",
    "    print(row[\"data \"],row[\"categoria\"], row[\"amount\"])"
   ]
  },
  {
   "cell_type": "code",
   "execution_count": 13,
   "id": "d59b8b3a",
   "metadata": {
    "scrolled": true
   },
   "outputs": [
    {
     "data": {
      "text/plain": [
       "categoria\n",
       "FINANCING REFUND        -17900.00\n",
       "FUNDING DISTRIBUTION     10000.00\n",
       "INVOICE COLLECTION      363533.46\n",
       "INVOICE PAYMENT         -40000.00\n",
       "SALARIES                -46000.00\n",
       "SUPPLIER PAYMENT       -253042.01\n",
       "UTILITIES                -9066.31\n",
       "Name: amount, dtype: float64"
      ]
     },
     "execution_count": 13,
     "metadata": {},
     "output_type": "execute_result"
    }
   ],
   "source": [
    "# Checking categories and each of their's sum. \n",
    "# Just a quick math operation.\n",
    "transactions.groupby('categoria')['amount'].sum()"
   ]
  },
  {
   "cell_type": "markdown",
   "id": "47991aff",
   "metadata": {},
   "source": [
    "# 2021 Financial Statement  Data Pre-Processing"
   ]
  },
  {
   "cell_type": "code",
   "execution_count": 14,
   "id": "ce76c1d0",
   "metadata": {},
   "outputs": [],
   "source": [
    "results = []\n",
    "for i in financial_statements[\"html\"][\"body\"][\"xbrl\"]:\n",
    "    translation =GoogleTranslator(source='it', target='en').translate(i)\n",
    "    test = financial_statements[\"html\"][\"body\"][\"xbrl\"][str(i)]\n",
    "    if type(test) == dict:\n",
    "        if '@contextref' in test and '#text' in test:\n",
    "            contextref = test['@contextref']\n",
    "            text = test['#text']\n",
    "            results.append([contextref, translation, text])\n",
    "    elif type(test) == list:\n",
    "        for j in test:\n",
    "            if '@contextref' in j and '#text' in j:\n",
    "                contextref = j['@contextref']\n",
    "                text = j['#text']\n",
    "                results.append([contextref, translation, text])\n",
    "\n",
    "df = pd.DataFrame(results, columns=['contextref', 'translation', 'text'])"
   ]
  },
  {
   "cell_type": "code",
   "execution_count": 15,
   "id": "1f3132bb",
   "metadata": {},
   "outputs": [
    {
     "data": {
      "text/html": [
       "<div>\n",
       "<style scoped>\n",
       "    .dataframe tbody tr th:only-of-type {\n",
       "        vertical-align: middle;\n",
       "    }\n",
       "\n",
       "    .dataframe tbody tr th {\n",
       "        vertical-align: top;\n",
       "    }\n",
       "\n",
       "    .dataframe thead th {\n",
       "        text-align: right;\n",
       "    }\n",
       "</style>\n",
       "<table border=\"1\" class=\"dataframe\">\n",
       "  <thead>\n",
       "    <tr style=\"text-align: right;\">\n",
       "      <th></th>\n",
       "      <th>contextref</th>\n",
       "      <th>translation</th>\n",
       "      <th>text</th>\n",
       "    </tr>\n",
       "  </thead>\n",
       "  <tbody>\n",
       "    <tr>\n",
       "      <th>0</th>\n",
       "      <td>i_Corrente</td>\n",
       "      <td>itcc-ci: equity, profit, loss for the year</td>\n",
       "      <td>-94264</td>\n",
       "    </tr>\n",
       "    <tr>\n",
       "      <th>1</th>\n",
       "      <td>d_Corrente</td>\n",
       "      <td>itcc-ci: profit/loss year</td>\n",
       "      <td>-94264</td>\n",
       "    </tr>\n",
       "    <tr>\n",
       "      <th>2</th>\n",
       "      <td>d_Corrente</td>\n",
       "      <td>itcc-ci: differencevaluecostproduction</td>\n",
       "      <td>-94264</td>\n",
       "    </tr>\n",
       "    <tr>\n",
       "      <th>3</th>\n",
       "      <td>d_Corrente</td>\n",
       "      <td>itcc-ci: result before taxes</td>\n",
       "      <td>-94264</td>\n",
       "    </tr>\n",
       "    <tr>\n",
       "      <th>4</th>\n",
       "      <td>i_Corrente</td>\n",
       "      <td>itcc-ci:totalecreditiversosociversamentiancora...</td>\n",
       "      <td>33</td>\n",
       "    </tr>\n",
       "    <tr>\n",
       "      <th>...</th>\n",
       "      <td>...</td>\n",
       "      <td>...</td>\n",
       "      <td>...</td>\n",
       "    </tr>\n",
       "    <tr>\n",
       "      <th>81</th>\n",
       "      <td>d_Corrente</td>\n",
       "      <td>itcc-ci:alienazioniesercizionumeroazioniquotes...</td>\n",
       "      <td>0</td>\n",
       "    </tr>\n",
       "    <tr>\n",
       "      <th>82</th>\n",
       "      <td>d_Corrente</td>\n",
       "      <td>itcc-ci:alienazionieserciziopartecapitalecorri...</td>\n",
       "      <td>0</td>\n",
       "    </tr>\n",
       "    <tr>\n",
       "      <th>83</th>\n",
       "      <td>d_Corrente</td>\n",
       "      <td>itcc-ci:alienazionieserciziopartecapitalecorri...</td>\n",
       "      <td>0</td>\n",
       "    </tr>\n",
       "    <tr>\n",
       "      <th>84</th>\n",
       "      <td>d_Corrente</td>\n",
       "      <td>itcc-ci:alienazionieserciziovalorenominaleazio...</td>\n",
       "      <td>0</td>\n",
       "    </tr>\n",
       "    <tr>\n",
       "      <th>85</th>\n",
       "      <td>d_Corrente</td>\n",
       "      <td>itcc-ci:alienazionieserciziovalorenominaleazio...</td>\n",
       "      <td>0</td>\n",
       "    </tr>\n",
       "  </tbody>\n",
       "</table>\n",
       "<p>86 rows × 3 columns</p>\n",
       "</div>"
      ],
      "text/plain": [
       "    contextref                                        translation    text\n",
       "0   i_Corrente         itcc-ci: equity, profit, loss for the year  -94264\n",
       "1   d_Corrente                          itcc-ci: profit/loss year  -94264\n",
       "2   d_Corrente             itcc-ci: differencevaluecostproduction  -94264\n",
       "3   d_Corrente                       itcc-ci: result before taxes  -94264\n",
       "4   i_Corrente  itcc-ci:totalecreditiversosociversamentiancora...      33\n",
       "..         ...                                                ...     ...\n",
       "81  d_Corrente  itcc-ci:alienazioniesercizionumeroazioniquotes...       0\n",
       "82  d_Corrente  itcc-ci:alienazionieserciziopartecapitalecorri...       0\n",
       "83  d_Corrente  itcc-ci:alienazionieserciziopartecapitalecorri...       0\n",
       "84  d_Corrente  itcc-ci:alienazionieserciziovalorenominaleazio...       0\n",
       "85  d_Corrente  itcc-ci:alienazionieserciziovalorenominaleazio...       0\n",
       "\n",
       "[86 rows x 3 columns]"
      ]
     },
     "execution_count": 15,
     "metadata": {},
     "output_type": "execute_result"
    }
   ],
   "source": [
    "df"
   ]
  },
  {
   "cell_type": "markdown",
   "id": "e9d6ee39",
   "metadata": {},
   "source": [
    "----\n",
    "\n",
    "<p>Some metrics we can use to help our lending manager:<p>\n",
    "\n",
    "<ol>\n",
    "<li><b>Patrimonio netto/the total value of a company's assets minus its liabilities (metric #5)</b></li>\n",
    "<li><b>Total liquid assets (metric #16)</b></li>\n",
    "<li><b>Total equity (metric #20)</b></li>\n",
    "<li><b>Total debts (metric #27)</b></li>\n",
    "<li><b>Debts due within the following year (metric #28)</b></li>\n",
    "<li><b>Total assets in circulation (metric #29)</b></li>\n",
    "<li><b>Profit/loss for the year or the result before taxes (metric #0 and #3)</b></li>\n",
    "<li><b>Total production value (metric #24)</b></li>\n",
    "<li><b> The value of production, revenues, sales, services (metric #23)</b></li>\n",
    "</ol>\n",
    "\n",
    "They can be used by lending manager and by us to evaluate a company's financial health and its ability to repay the loan. We can use them to asses the company's liquidity, profitability, and solvency.\n",
    "\n",
    "- <b>Shareholders equity profit loss year </b>: <b>€-94,264</b> which is the net income or loss of the company, which is an indicator of the company's profitability.\n",
    "\n",
    "- <b>Patrimonio netto / the total value of a company's assets minus its liabilities</b> : <b>€209</b>, which is an indicator of the company's net worth and can be used to measure the company's solvency.\n",
    "\n",
    "- <b>Total equity</b>: <b> €85,927 </b>, An indicator of the company's net assets and we can use it to measure the company's solvency. It is also company's net worth and the value that would be left for shareholders if the company were liquidated.\n",
    "\n",
    "- <b>Total liquid assets </b>:<b>€54,891</b>, which is an indicator of the company's liquidity, and can be used to measure the company's ability to meet short-term obligations.\n",
    "\n",
    "- <b>Total assets in circulation</b>: <b>€145,786</b>, is a measure of the company's assets that are readily available to pay off its liabilities, which can be used to measure the company's liquidity.\n",
    "\n",
    "- <b>Total liabilities</b>: <b>€225,168</b>, this metric is important in determining the company's solvency, by comparing the company's assets to its liabilities. ()\n",
    "\n",
    "- <b>Debts due within the following year </b>: <b>€139,241</b>, the amount of debt that a company is obligated to repay within the next 12 months.<b>(2022)</b>\n",
    "\n",
    "----\n",
    "\n"
   ]
  },
  {
   "cell_type": "markdown",
   "id": "e0777309",
   "metadata": {},
   "source": [
    "### Manual Translation of FS for remaining ones"
   ]
  },
  {
   "cell_type": "code",
   "execution_count": 16,
   "id": "8c0996b2",
   "metadata": {},
   "outputs": [],
   "source": [
    "df.at[0, 'translation'] = 'itcc-ci: shareholders equity profit loss year'\n",
    "df.at[1, 'translation'] = 'itcc-ci: profit loss exercise'\n",
    "df.at[2, 'translation'] = 'itcc-ci: production cost difference'\n",
    "df.at[3, 'translation'] = 'itcc-ci: result before taxes'\n",
    "df.at[4, 'translation'] = 'itcc-ci: total receivables from shareholders payments still due'\n",
    "df.at[5, 'translation'] = 'itcc-ci: Patrimonio netto / the total value of a companys assets minus its liabilities'\n",
    "df.at[11, 'trans}lation'] = 'itcc-ci: production value changes in inventories products processing progress semi-finished products'\n",
    "df.at[12, 'translation'] = 'itcc-ci: production value changes in inventories products in progress semi-finished finished work in progress orders'\n",
    "df.at[13, 'translation'] = 'itcc-ci: value of production other revenue income grants operating account'\n",
    "df.at[14, 'translation'] = 'itcc-ci: production value other revenues income total other revenues income'\n",
    "df.at[15, 'translation'] = 'itcc-ci: shareholders equity other reserves indicated separately total other reserves'\n",
    "df.at[18, 'translation'] = 'itcc-ci: production costs ancillary raw materials goods consumption'\n",
    "df.at[28, 'translation'] = 'itcc-ci: debts due within the following year'\n",
    "df.at[31, 'translation'] = 'itcc-ci: total active'\n",
    "df.at[38, 'translation'] = 'itcc-ci: personal details fully paid-up share capital'\n",
    "df.at[40, 'translation'] = 'itcc-ci: master data company subordinated by others coordination management activity'\n",
    "df.at[46, 'translation'] = 'itcc-ci: personal data on the main atheist sector of activity'\n",
    "df.at[50, 'translation'] = 'itcc-ci: directors commitments assumed on their behalf effects guarantees given'\n",
    "df.at[51, 'translation'] = 'itcc-ci: mayoral ties advances'\n",
    "df.at[54, 'translation'] = 'itcc-ci: statutory auditors commitments assumed on their behalf effects guarantees given'\n",
    "df.at[60, 'translation'] = 'itcc-ci: commitments towards parent companies subject to control'\n",
    "df.at[68, 'translation'] = 'itcc-ci: shares quotes or parent companies corresponding capital share'\n",
    "df.at[69, 'translation'] = 'itcc-ci: shares quotas parent companies nominal value'\n",
    "df.at[70, 'translation'] = 'itcc-ci: acquisition of treasury shares'\n",
    "df.at[71, 'translation'] = 'itcc-ci: acquisitions exercise consideration shares stakes in parent companies'\n",
    "df.at[73, 'translation'] = 'itcc-ci: acquisitions during the year number of shares holdings of parent companies'\n",
    "df.at[74, 'translation'] = 'itcc-ci: acquisitions of the corresponding share capital treasury shares'\n",
    "df.at[75, 'translation'] = 'itcc-ci: acquisitions during the year of the corresponding share capital shares of parent companies'\n",
    "df.at[76, 'translation'] = 'itcc-ci: acquisitions exercise nominal value treasury shares'\n",
    "df.at[77, 'translation'] = 'itcc-ci: acquisitions exercise nominal value shares stakes in parent companies'\n",
    "df.at[78, 'translation'] = 'itcc-ci: sale exercise consideration for treasury shares'\n",
    "df.at[79, 'translation'] = 'itcc-ci: disposals for the consideration of shares shares in parent companies'\n",
    "df.at[81, 'translation'] = 'itcc-ci: disposals exercise number of shares holdings of parent companies'\n",
    "df.at[82, 'translation'] = 'itcc-ci: disposals of the capital corresponding to treasury shares'\n",
    "df.at[83, 'translation'] = 'itcc-ci: disposals for the year of the corresponding capital shares shares in parent companies'\n",
    "df.at[84, 'translation'] = 'itcc-ci: sale exercise nominal value treasury shares'\n",
    "df.at[85, 'translation'] = 'itcc-ci: disposals exercise nominal value shares quotas parent companies'\n",
    "df = df.rename(columns={'translation':'metric','text':'value'})\n"
   ]
  },
  {
   "cell_type": "code",
   "execution_count": 17,
   "id": "6e045534",
   "metadata": {},
   "outputs": [
    {
     "name": "stdout",
     "output_type": "stream",
     "text": [
      "0 i_Corrente itcc-ci: shareholders equity profit loss year -94264\n",
      "1 d_Corrente itcc-ci: profit loss exercise -94264\n",
      "2 d_Corrente itcc-ci: production cost difference -94264\n",
      "3 d_Corrente itcc-ci: result before taxes -94264\n",
      "4 i_Corrente itcc-ci: total receivables from shareholders payments still due 33\n",
      "5 i_Corrente itcc-ci: Patrimonio netto / the total value of a companys assets minus its liabilities 209\n",
      "6 d_Corrente itcc-ci: value production other revenue income other 260\n",
      "7 d_Corrente itcc-ci: production costs various management costs 939\n",
      "8 i_Corrente itcc-ci: active installments and prepayments 1765\n",
      "9 i_Corrente itcc-ci: total tangible fixed assets 2765\n",
      "10 i_Corrente itcc-ci: total inventories 3000\n",
      "11 d_Corrente itcc-ci:valoreproduzionevariazionirimanenzeprodotticorsolavorazionesemilavoratifiniti 3000\n",
      "12 d_Corrente itcc-ci: production value changes in inventories products in progress semi-finished finished work in progress orders 3000\n",
      "13 d_Corrente itcc-ci: value of production other revenue income grants operating account 4000\n",
      "14 d_Corrente itcc-ci: production value other revenues income total other revenues income 4260\n",
      "15 i_Corrente itcc-ci: shareholders equity other reserves indicated separately total other reserves 50000\n",
      "16 i_Corrente itcc-ci: total liquid assets 54891\n",
      "17 i_Corrente itcc-ci: total intangible fixed assets 74819\n",
      "18 d_Corrente itcc-ci: production costs ancillary raw materials goods consumption 75461\n",
      "19 i_Corrente itcc-ci: total fixed assets 77584\n",
      "20 i_Corrente itcc-ci: total equity 85927\n",
      "21 i_Corrente itcc-ci: total credits 87895\n",
      "22 i_Corrente itcc-ci: receivables due within the following year 87895\n",
      "23 d_Corrente itcc-ci: value of production revenues sales services 111055\n",
      "24 d_Corrente itcc-ci: total production value 118315\n",
      "25 i_Corrente itcc-ci: equity reserve premium shares 129982\n",
      "26 d_Corrente itcc-ci: cost of production and services 136179\n",
      "27 i_Corrente itcc-ci: total debts 139241\n",
      "28 i_Corrente itcc-ci: debts due within the following year 139241\n",
      "29 i_Corrente itcc-ci: total assets in circulation 145786\n",
      "30 d_Corrente itcc-ci: total production costs 212579\n",
      "31 i_Corrente itcc-ci: total active 22516800\n",
      "32 i_Corrente itcc-ci: total liabilities 225168\n"
     ]
    }
   ],
   "source": [
    "# Delete the rows that doesn't seem to provide much information for our analysis, and print the remanining ones.\n",
    "df = df.drop(df.index[33:])\n",
    "for index, row in df.iterrows():\n",
    "    print(index,row['contextref'],row[\"metric\"], row[\"value\"])"
   ]
  },
  {
   "cell_type": "code",
   "execution_count": 18,
   "id": "2e96f9d9",
   "metadata": {},
   "outputs": [
    {
     "name": "stdout",
     "output_type": "stream",
     "text": [
      "PERIOD 12 January to 31 December 2021\n",
      "----------------------------------------\n",
      "1 itcc-ci: profit loss exercise -94264\n",
      "2 itcc-ci: production cost difference -94264\n",
      "3 itcc-ci: result before taxes -94264\n",
      "6 itcc-ci: value production other revenue income other 260\n",
      "7 itcc-ci: production costs various management costs 939\n",
      "11 itcc-ci:valoreproduzionevariazionirimanenzeprodotticorsolavorazionesemilavoratifiniti 3000\n",
      "12 itcc-ci: production value changes in inventories products in progress semi-finished finished work in progress orders 3000\n",
      "13 itcc-ci: value of production other revenue income grants operating account 4000\n",
      "14 itcc-ci: production value other revenues income total other revenues income 4260\n",
      "18 itcc-ci: production costs ancillary raw materials goods consumption 75461\n",
      "23 itcc-ci: value of production revenues sales services 111055\n",
      "24 itcc-ci: total production value 118315\n",
      "26 itcc-ci: cost of production and services 136179\n",
      "30 itcc-ci: total production costs 212579\n",
      "----------------------------------------\n",
      "Instant  31 December 2021 \n",
      "----------------------------------------\n",
      "0 itcc-ci: shareholders equity profit loss year -94264\n",
      "4 itcc-ci: total receivables from shareholders payments still due 33\n",
      "5 itcc-ci: Patrimonio netto / the total value of a companys assets minus its liabilities 209\n",
      "8 itcc-ci: active installments and prepayments 1765\n",
      "9 itcc-ci: total tangible fixed assets 2765\n",
      "10 itcc-ci: total inventories 3000\n",
      "15 itcc-ci: shareholders equity other reserves indicated separately total other reserves 50000\n",
      "16 itcc-ci: total liquid assets 54891\n",
      "17 itcc-ci: total intangible fixed assets 74819\n",
      "19 itcc-ci: total fixed assets 77584\n",
      "20 itcc-ci: total equity 85927\n",
      "21 itcc-ci: total credits 87895\n",
      "22 itcc-ci: receivables due within the following year 87895\n",
      "25 itcc-ci: equity reserve premium shares 129982\n",
      "27 itcc-ci: total debts 139241\n",
      "28 itcc-ci: debts due within the following year 139241\n",
      "29 itcc-ci: total assets in circulation 145786\n",
      "31 itcc-ci: total active 22516800\n",
      "32 itcc-ci: total liabilities 225168\n",
      "----------------------------------------\n"
     ]
    }
   ],
   "source": [
    "# Seperate the df into period and instant\n",
    "period = df[df['contextref'] == 'd_Corrente']\n",
    "instant = df[df['contextref'] == 'i_Corrente']\n",
    "\n",
    "print(\"PERIOD 12 January to 31 December 2021\")\n",
    "print(\"----------------------------------------\")\n",
    "for index, row in period.iterrows():\n",
    "    print(index, row[\"metric\"], row[\"value\"]) \n",
    "print(\"----------------------------------------\")\n",
    "print(\"Instant  31 December 2021 \")\n",
    "print(\"----------------------------------------\")\n",
    "for index, row in instant.iterrows():\n",
    "    print(index, row[\"metric\"], row[\"value\"])\n",
    "print(\"----------------------------------------\")"
   ]
  },
  {
   "cell_type": "markdown",
   "id": "e04e2f91",
   "metadata": {},
   "source": [
    "---------\n",
    "\n",
    "From the given metrics going into 2022, we can calculate the following metrics:\n",
    "\n",
    "<ul>\n",
    "  <li><b>Solvency Metrics</b></li>\n",
    "  <ul>\n",
    "    <li>Debt to Asset Ratio = Total Debt(#27) / Total Assets (#31)</li>\n",
    "    <li>Debt to Equity ratio = Total Liabilities(#32) or (#27) / Total Equity(#20)</li> \n",
    "  </ul>\n",
    "  <li><b>Liquidity Metrics</b></li>\n",
    "  <ul>\n",
    "    <li>Current Ratio = (total liquid assets (#16) + total inventories(#10) + total receivables (#22) + total receivables from shareholders(#4) + active installments and prepayments(#8)) / current liabilities (#28)</li>\n",
    "    <li>Quick ratio = ( total liquid assets (#16) + total receivables (#22) + Installments and prepayments(#8) + total inventories(#10)) / Current Liabilities(#28)</li>\n",
    "  </ul>\n",
    "  <li><b>Profitability Metrics</b></li>\n",
    "  <ul>\n",
    "    <li>Return on Equity = net profit (#0) / total equity (#20) </li>\n",
    "    <li>Fixed Asset Turnover Ratio = Net Sales (#23 )/ total fixed assets (#19)</li>\n",
    "  </ul>\n",
    "  <li><b>Leverage Metrics</b></li>\n",
    "  <ul>\n",
    "    <li>Debt Service Coverage Ratio (DSCR) = Net Operating Income (#23)/ Total Debt Servicing (#27)</li>\n",
    "    <li>Capital Gearing Ratio = Common Stockholder Equity(#15) / Total liabilities</li>\n",
    "  </ul>\n",
    "</ul>\n",
    "\n",
    "---------"
   ]
  },
  {
   "cell_type": "code",
   "execution_count": 74,
   "id": "bac8dec4",
   "metadata": {},
   "outputs": [],
   "source": [
    "\"\"\"\n",
    "-------------------------------------------------------------------------------------\n",
    "# Solvency Metrics\n",
    "# Debt to Asset Ratio = Total Debt(#27) / Total Assets (#29) + (#19)\n",
    "# Debt to equity ratio = Total Debt(#27) / Total Equity(#20)\n",
    "-------------------------------------------------------------------------------------\n",
    "\"\"\"\n",
    "debt_to_asset = float(df['value'][27]) / (float(df['value'][31]))\n",
    "debt_to_equity_short = float(df['value'][27]) /  float(df['value'][20])\n",
    "debt_to_equity_long = float(df['value'][32]) /  float(df['value'][20])\n",
    "\n",
    "\"\"\"\n",
    "-------------------------------------------------------------------------------------\n",
    "# Liquidity Metrics    \n",
    "# Current Ratio:\n",
    "#    \"total liquid assets\" (54891) (#16)\n",
    "#    \"total inventories\" (3000)    (#10)\n",
    "#    \"total receivables from shareholders payments still due\" 33 (#4)\n",
    "#    \"active installments and prepayments\" 1765 (#8)\n",
    "#    \"receivables due within the following year\" 87895 (#22)\n",
    "#    \"the current liabilities\" would be \"debts due within the following year\" (139241)\n",
    "# Quick Ratio: total liquid assets\" (54891) + \"total inventories\" (3000) / debts due within the following year 139241\n",
    "-------------------------------------------------------------------------------------\n",
    "\"\"\"\n",
    "current_ratio = (float(df['value'][16]) + float(df['value'][10])+float(df['value'][4])+ float(df['value'][8])+float(df['value'][22])) / float(df['value'][28])\n",
    "quick_ratio = (float(df['value'][16]) + float(df['value'][10])) / float(df['value'][28])                                        \n",
    "\"\"\" \n",
    "-------------------------------------------------------------------------------------\n",
    "# Profitability Metrics\n",
    "# ROE: shareholders equity profit loss year -94264 / total equity 85927\n",
    "# FATR: A higher turnover ratio is indicative of greater efficiency in managing fixed-asset investments, \n",
    "but there is not an exact number or range that dictates whether a company has been efficient at generating \n",
    "revenue from such investments. For this reason, it is important for analysts and investors to compare a \n",
    "company’s most recent ratio to both its own historical ratios and ratio values from peer companies and/or \n",
    "average ratios for the company's industry as a whole.\n",
    "        value of production revenues sales services 111055 / total assets in circulation 145786\n",
    "-------------------------------------------------------------------------------------\n",
    "\"\"\"\n",
    "\n",
    "return_on_equity = (float(df['value'][0])) / float(df['value'][20])\n",
    "fixed_asset_turnover_ratio  = float(df['value'][23]) / float(df['value'][19])\n",
    "\n",
    "\"\"\"\n",
    "-------------------------------------------------------------------------------------\n",
    "# Leverage Metrics\n",
    "# Debt Service Coverage Ratio (DSCR) = Measurement of a firm's available cash flow to pay current debt obligations.\n",
    "# capital gearing ratio  = the amount of debt a company has relative to its equity.\n",
    "-------------------------------------------------------------------------------------\n",
    "\"\"\"\n",
    "dscr = float(df['value'][23]) / float(df['value'][27])\n",
    "capital_gearing_ratio = float(df['value'][23]) / float(df['value'][32])"
   ]
  },
  {
   "cell_type": "code",
   "execution_count": 75,
   "id": "8afac838",
   "metadata": {
    "scrolled": true
   },
   "outputs": [
    {
     "name": "stdout",
     "output_type": "stream",
     "text": [
      "----------------------------------------------\n",
      "2021 - Solvency Metrics\n",
      "Debt to Asset Ratio: 0.006183871598095644\n",
      "Debt to Equity Ratio(Short):  1.6204568994611706\n",
      "Debt to Equity Ratio (Long): 2.6204568994611703\n",
      "----------------------------------------------\n",
      "2021 - Profitability Metrics\n",
      "Return on Equity: -1.0970242182317549\n",
      "Fixed Asset Turnover Ratio: 1.4314162713961642\n",
      "----------------------------------------------\n",
      "2021 - Liquidity Metrics\n",
      "Current Ratio: 1.0599176966554391\n",
      "Quick Ratio: 0.41576116230133364\n",
      "----------------------------------------------\n",
      "2021 - Leverage Metrics\n",
      "Debt Service Coverage Ratio (DSCR)  0.7975739904194885\n",
      "Capital Gearing Ratio:  0.4932095146734882\n"
     ]
    }
   ],
   "source": [
    "print(\"----------------------------------------------\")\n",
    "print(\"2021 - Solvency Metrics\")\n",
    "print('Debt to Asset Ratio:', debt_to_asset)\n",
    "print(\"Debt to Equity Ratio(Short): \",debt_to_equity_short)\n",
    "print(\"Debt to Equity Ratio (Long):\",debt_to_equity_long)\n",
    "print(\"----------------------------------------------\")\n",
    "print(\"2021 - Profitability Metrics\")\n",
    "print(\"Return on Equity:\",return_on_equity)\n",
    "print(\"Fixed Asset Turnover Ratio:\",fixed_asset_turnover_ratio)\n",
    "print(\"----------------------------------------------\")\n",
    "print(\"2021 - Liquidity Metrics\")\n",
    "print(\"Current Ratio:\", current_ratio)\n",
    "print(\"Quick Ratio:\", quick_ratio)\n",
    "print(\"----------------------------------------------\")\n",
    "print(\"2021 - Leverage Metrics\")\n",
    "print(\"Debt Service Coverage Ratio (DSCR) \", dscr)\n",
    "print(\"Capital Gearing Ratio: \",capital_gearing_ratio )"
   ]
  },
  {
   "cell_type": "markdown",
   "id": "b187e93e",
   "metadata": {},
   "source": [
    "---------\n",
    "\n",
    "<h4>Summary of 2021: </h4>\n",
    "\n",
    "\n",
    "-  Total Production cost is <b>€212,579</b> (#30), and the money that made from these products is <b>€ 118,315</b> (#24) which cause the company to be in net profit of <b> € -94,264</b> (#0).<br>\n",
    "\n",
    "- Going into 2022 company had total liability of <b>€225,168</b> (#32), where only <b>€139,241</b> (#28) of it to be paid in 2022.\n",
    "\n",
    "- Company has a worth of <b>€22,516,800</b> (Totale Attivo #31) resources and assets that can be used to meet its debts and obligations.\n",
    "\n",
    "---------\n",
    "\n",
    "<h5>Solvency Metrics:</h5>\n",
    "\n",
    "- Debt to Asset Ratio of 0.00618 shows that a very small portion of the company's assets are financed by debt.\n",
    "- Debt to Equity Ratio of 1.62 shows that the company has a higher debt burden compared to its equity, indicating an elevated level of financial leverage.\n",
    "\n",
    "<h5>Profitability Metrics:</h5>\n",
    "\n",
    "- Return on Equity of -1.10 suggests that the company has not generated a profit for its shareholders.\n",
    "- Fixed Asset Turnover Ratio of 1.43 shows that for every dollar of fixed assets,  company generated 1.43 euros in revenue. \n",
    "\n",
    "<h5>Liquidity Metrics:</h5>\n",
    "\n",
    "- Current Ratio of 1.06 shows that the company has sufficient current assets to cover its short-term obligations.\n",
    "- Quick Ratio of 0.42 indicates that the company may face difficulties in meeting its immediate cash obligations in the event of a crisis.\n",
    "\n",
    "<h5>Leverage Metrics:</h5>\n",
    "\n",
    "- Debt Service Coverage Ratio (DSCR) of 0.80 tells us that company has only 80 cents of cash flow for every dollar of debt service. This low can be interepreted that the company may have difficulty meeting its debt obligations and may be at risk of default. Though there is no industry standard, a DSCR of at least 2 is considered very strong. Many lenders will set minimum DSCR requirements between 1.2 and 1.25. <br><br>\n",
    "\n",
    "- Capital Gearing Ratio of 0.49 suggests that the company is using a moderate amount of debt financing relative to its equity.\n",
    "\n",
    "---------"
   ]
  },
  {
   "cell_type": "markdown",
   "id": "a1e617bb",
   "metadata": {},
   "source": [
    "# 2022 Transactions"
   ]
  },
  {
   "cell_type": "markdown",
   "id": "35bb0f71",
   "metadata": {},
   "source": [
    "---------\n",
    "<p> We have analyzed the filed financial statement for 2021, now we will dive into the transactions of 2022 and try to extract information presented below:\n",
    " <ul>\n",
    "    <li><b>Cash flows: </b> Total amount of cash inflows (such as Invoice Collection) and outflows (such as Salaries and Supplier Payment) for each month. This will give us an idea of the company's overall cash position for each month.\n",
    "    </li>\n",
    "<li><b> Trends in cash flows:</b> We will try to observe any trends in the cash inflows and outflows. For example, do the cash inflows tend to increase or decrease over time? Do the cash outflows tend to increase or decrease over time?\n",
    "    </li>\n",
    "<li><b> Changes in expenses:</b> We will look for changes in expenses, such as Salaries and Utilities, to see if they have increased or decreased over time. This will give us an insight into the company's cost structure.</li>\n",
    "<li><b>Changes in revenue:</b> We can check the changes in revenue, such as Invoice Collection, to see if there are any significant changes over time.</li>\n",
    "<li><b>Changes in funding:</b> We can check any changes in financing, such as Financing Refund and Funding Distribution, to see if there are any significant changes over time.</li>\n",
    "<li><b>Changes in payables:</b> We will look at the changes in payables, such as Supplier Payment, to see if there are any changes over time.</li>\n",
    "<li><b>Changes in receivables:</b> We will look at any changes in the accounts receivable, such as Invoice Collection  to see if there are any changes over time.</li>\n",
    "<li><b>Changes in profitability:</b> We will look for any changes in profitability.</li>\n",
    "</ul>\n",
    "\n",
    "-------------"
   ]
  },
  {
   "cell_type": "code",
   "execution_count": 19,
   "id": "04891548",
   "metadata": {},
   "outputs": [
    {
     "data": {
      "text/plain": [
       "<AxesSubplot: xlabel='month'>"
      ]
     },
     "execution_count": 19,
     "metadata": {},
     "output_type": "execute_result"
    },
    {
     "data": {
      "image/png": "[encoded data removed]",
      "text/plain": [
       "<Figure size 1440x720 with 1 Axes>"
      ]
     },
     "metadata": {
      "needs_background": "light"
     },
     "output_type": "display_data"
    }
   ],
   "source": [
    "transactions[\"data \"] = pd.to_datetime(transactions[\"data \"])\n",
    "transactions['month'] = transactions[\"data \"].dt.month\n",
    "monthly_totals = transactions.groupby(['month', 'categoria'])['amount'].sum()\n",
    "monthly_totals.unstack().plot(kind='bar', figsize=(20, 10))"
   ]
  },
  {
   "cell_type": "markdown",
   "id": "8f3677e5",
   "metadata": {},
   "source": [
    "---------\n",
    "- The financing refund payment changes after some months. In the first few months, the financing refund is 1200 but it changes to 1700 in the June(06)\n",
    " \n",
    "- The company seems to stop paying salaries after July. \n",
    "\n",
    "- The invoice collection also varies month to month, with some months having higher collection than others.\n",
    "\n",
    "- The supplier payments also varies month to month, with some months having higher payments than others.\n",
    "\n",
    "- The utilities expenses also varies month to month, with some months having higher expenses than others.\n",
    "\n",
    "- It is also possible that the company had engaged in invoice factoring based on the presence of \"Invoice Collection\" and \"Invoice Payment\" transactions in the list. \n",
    "\n",
    "---------"
   ]
  },
  {
   "cell_type": "markdown",
   "id": "4f6d8d79",
   "metadata": {},
   "source": [
    "### Changes in Cashflow"
   ]
  },
  {
   "cell_type": "code",
   "execution_count": 20,
   "id": "8482760a",
   "metadata": {},
   "outputs": [],
   "source": [
    "monthly_totals_test = monthly_totals.reset_index()\n",
    "monthly_totals_test['categoria'] = monthly_totals_test['categoria'].astype(str)\n",
    "monthly_cash_flow = monthly_totals_test.groupby('month')['amount'].sum()"
   ]
  },
  {
   "cell_type": "code",
   "execution_count": 21,
   "id": "3eb37efc",
   "metadata": {},
   "outputs": [
    {
     "data": {
      "image/png": "[encoded data removed]",
      "text/plain": [
       "<Figure size 1440x720 with 1 Axes>"
      ]
     },
     "metadata": {
      "needs_background": "light"
     },
     "output_type": "display_data"
    }
   ],
   "source": [
    "plt.figure(figsize=(20,10))\n",
    "plt.plot(monthly_cash_flow)\n",
    "plt.axhline(0, color='red', linestyle='--')\n",
    "plt.title(\"Monthly Cash Flow\")\n",
    "plt.xlabel(\"Month\")\n",
    "plt.ylabel(\"Amount (in Euros)\")\n",
    "plt.show()"
   ]
  },
  {
   "cell_type": "code",
   "execution_count": 22,
   "id": "8d06989c",
   "metadata": {},
   "outputs": [],
   "source": [
    "monthly_totals_test['categoria'] = monthly_totals_test['categoria'].astype(str)\n",
    "monthly_cash_flow = monthly_totals_test.groupby('month')['amount'].sum()"
   ]
  },
  {
   "cell_type": "markdown",
   "id": "8377c427",
   "metadata": {},
   "source": [
    "-----\n",
    "\n",
    "- We can observe that there is a sudden decrease in the net cashflow in the 2nd and 6th months. Moreover, we see company is in net negative for 8 months out of 12.\n",
    "- There is an steady increase trend in net cashflow after the month of 6.\n",
    "\n",
    "-----\n"
   ]
  },
  {
   "cell_type": "markdown",
   "id": "29caf48a",
   "metadata": {},
   "source": [
    "### Changes in expenses"
   ]
  },
  {
   "cell_type": "code",
   "execution_count": 23,
   "id": "c5895a54",
   "metadata": {},
   "outputs": [],
   "source": [
    "expenses = monthly_totals_test[monthly_totals_test['categoria'].isin(['SALARIES', 'UTILITIES','FINANCING REFUND','INVOICE PAYMENT','SUPPLIER PAYMENT'])].groupby('month')['amount'].sum()\n",
    "expenses = expenses.reset_index()\n",
    "expenses.rename(columns={'amount': 'expenses'}, inplace=True)"
   ]
  },
  {
   "cell_type": "code",
   "execution_count": 24,
   "id": "634ffb6c",
   "metadata": {},
   "outputs": [],
   "source": [
    "expenses['Pct Chng'] = expenses['expenses'].pct_change()"
   ]
  },
  {
   "cell_type": "code",
   "execution_count": 25,
   "id": "37402060",
   "metadata": {},
   "outputs": [
    {
     "data": {
      "image/png": "[encoded data removed]",
      "text/plain": [
       "<Figure size 720x360 with 1 Axes>"
      ]
     },
     "metadata": {
      "needs_background": "light"
     },
     "output_type": "display_data"
    },
    {
     "data": {
      "image/png": "[encoded data removed]",
      "text/plain": [
       "<Figure size 720x360 with 1 Axes>"
      ]
     },
     "metadata": {
      "needs_background": "light"
     },
     "output_type": "display_data"
    }
   ],
   "source": [
    "# plot expenses\n",
    "expenses.plot(x='month', y='expenses', kind='bar', figsize=(10,5), title='Expenses by Month')\n",
    "plt.ylabel('Expenses')\n",
    "plt.show()\n",
    "\n",
    "# plot the change\n",
    "expenses.plot(x='month', y='Pct Chng', kind='line', figsize=(10,5), title='Percentage Change in Expenses by Month')\n",
    "plt.ylabel('Percentage Change in Expenses')\n",
    "plt.show()"
   ]
  },
  {
   "cell_type": "markdown",
   "id": "e1d0858d",
   "metadata": {},
   "source": [
    "-----\n",
    "- We can observe that as the months pass, the company expenses increase, especially after the 6th month of the year.\n",
    "-----"
   ]
  },
  {
   "cell_type": "markdown",
   "id": "30249106",
   "metadata": {},
   "source": [
    "### Changes in Revenue"
   ]
  },
  {
   "cell_type": "code",
   "execution_count": 26,
   "id": "249c5f10",
   "metadata": {},
   "outputs": [],
   "source": [
    "revenue = monthly_totals_test[monthly_totals_test['categoria'].isin(['INVOICE COLLECTION','FUNDING DISTRIBUTION'])].groupby('month')['amount'].sum()\n",
    "revenue  = revenue.reset_index()\n",
    "revenue.rename(columns={'amount': 'revenue'}, inplace=True)\n",
    "revenue['Pct Chng'] = revenue['revenue'].pct_change()"
   ]
  },
  {
   "cell_type": "code",
   "execution_count": 27,
   "id": "ae5c4bc8",
   "metadata": {},
   "outputs": [
    {
     "data": {
      "image/png": "[encoded data removed]",
      "text/plain": [
       "<Figure size 720x360 with 1 Axes>"
      ]
     },
     "metadata": {
      "needs_background": "light"
     },
     "output_type": "display_data"
    },
    {
     "data": {
      "image/png": "[encoded data removed]",
      "text/plain": [
       "<Figure size 720x360 with 1 Axes>"
      ]
     },
     "metadata": {
      "needs_background": "light"
     },
     "output_type": "display_data"
    }
   ],
   "source": [
    "# plot expenses\n",
    "revenue.plot(x='month', y='revenue', kind='bar', figsize=(10,5), title='Revenue by Month')\n",
    "plt.ylabel('Revenue')\n",
    "plt.show()\n",
    "\n",
    "# plot the change\n",
    "revenue.plot(x='month', y='Pct Chng', kind='line', figsize=(10,5), title='Percentage Change in Revenue by Month')\n",
    "plt.axhline(0, color='red', linestyle='--')\n",
    "plt.ylabel('Percentage Change in Revenue')\n",
    "plt.show()"
   ]
  },
  {
   "cell_type": "markdown",
   "id": "23ce0e0a",
   "metadata": {},
   "source": [
    "### Changes in Financing:"
   ]
  },
  {
   "cell_type": "code",
   "execution_count": 28,
   "id": "9c89dc5c",
   "metadata": {
    "scrolled": true
   },
   "outputs": [
    {
     "data": {
      "image/png": "[encoded data removed]",
      "text/plain": [
       "<Figure size 720x360 with 1 Axes>"
      ]
     },
     "metadata": {
      "needs_background": "light"
     },
     "output_type": "display_data"
    }
   ],
   "source": [
    "# Select only the FINANCING REFUND from monthly_totals_test dataframe\n",
    "financing_refunds = monthly_totals_test[monthly_totals_test[\"categoria\"] == \"FINANCING REFUND\"]\n",
    "# Group the filtered data by \"month\" and sum the \"amount\" column\n",
    "financing_refunds = financing_refunds.groupby(\"month\")[\"amount\"].sum()\n",
    "# Plot the financing_refunds data in a bar chart\n",
    "financing_refunds.plot(kind=\"bar\",figsize=(10,5), title='FINANCING REFUND by Month')\n",
    "plt.xlabel(\"Month\")\n",
    "plt.ylabel(\"Amount (in Euros)\")\n",
    "plt.show()"
   ]
  },
  {
   "cell_type": "markdown",
   "id": "c260cfd2",
   "metadata": {},
   "source": [
    "------------------\n",
    "- In the last filed financial statement of the company(2021), the company had <b>\"debts due within the following year €139,241\" </b>\n",
    "    \n",
    "- But in the below we can see that only <b>€-17,000</b> of it had been repaid according to the transactions we are given.\n",
    "- Moreover, we can see that the profit for the year 2022 is <b> €7,525</b> \n",
    "- It seems that the coming Funding of <b> €10,000</b> has <b> €500</b> monthly payment. The Interest range of Invoice factoring or financing ranges between 10% and 70%, the monthly payment of 500 in 24 months would not be wrong to assume this case.\n",
    "-------------------"
   ]
  },
  {
   "cell_type": "code",
   "execution_count": 29,
   "id": "6fc0eeea",
   "metadata": {},
   "outputs": [
    {
     "name": "stdout",
     "output_type": "stream",
     "text": [
      "Paid Refunds: -17900\n",
      "2022 Profit : 7525\n"
     ]
    }
   ],
   "source": [
    "print('Paid Refunds:', int(financing_refunds.sum()))\n",
    "print(\"2022 Profit :\", int(monthly_totals_test['amount'].sum()))"
   ]
  },
  {
   "cell_type": "markdown",
   "id": "f25281ed",
   "metadata": {},
   "source": [
    "### Changes in Receivables and Supplier Payments"
   ]
  },
  {
   "cell_type": "code",
   "execution_count": 30,
   "id": "e25ebfe9",
   "metadata": {},
   "outputs": [
    {
     "data": {
      "image/png": "[encoded data removed]",
      "text/plain": [
       "<Figure size 720x360 with 1 Axes>"
      ]
     },
     "metadata": {
      "needs_background": "light"
     },
     "output_type": "display_data"
    }
   ],
   "source": [
    "# Select only the FINANCING REFUND from monthly_totals_test dataframe\n",
    "receivables = monthly_totals_test[monthly_totals_test[\"categoria\"] == \"INVOICE COLLECTION\"]\n",
    "# Group the filtered data by \"month\" and sum the \"amount\" column\n",
    "receivables = receivables.groupby(\"month\")[\"amount\"].sum()\n",
    "# Plot the financing_refunds data in a bar chart\n",
    "receivables.plot(kind=\"bar\",figsize=(10,5), title='INVOICE COLLECTION by Month')\n",
    "plt.xlabel(\"Month\")\n",
    "plt.ylabel(\"Amount (in Euros)\")\n",
    "plt.show()"
   ]
  },
  {
   "cell_type": "markdown",
   "id": "eb284e12",
   "metadata": {},
   "source": [
    "----\n",
    "- We clearly see that invoice collection has a steady upside trend throughout the year.\n",
    "- We also see that this increase in invoice collection has a correlation with SUPPLIER PAYMENT. (Chart is down below)\n",
    "----"
   ]
  },
  {
   "cell_type": "code",
   "execution_count": 31,
   "id": "ba1368e1",
   "metadata": {},
   "outputs": [
    {
     "data": {
      "image/png": "[encoded data removed]",
      "text/plain": [
       "<Figure size 720x360 with 1 Axes>"
      ]
     },
     "metadata": {
      "needs_background": "light"
     },
     "output_type": "display_data"
    }
   ],
   "source": [
    "# Select only the FINANCING REFUND from monthly_totals_test dataframe\n",
    "supplier_expenses = monthly_totals_test[monthly_totals_test[\"categoria\"] == \"SUPPLIER PAYMENT\"]\n",
    "# Group the filtered data by \"month\" and sum the \"amount\" column\n",
    "supplier_expenses = supplier_expenses.groupby(\"month\")[\"amount\"].sum()\n",
    "# Plot the financing_refunds data in a bar chart\n",
    "supplier_expenses.plot(kind=\"bar\",figsize=(10,5), title='SUPPLIER PAYMENT by Month')\n",
    "plt.xlabel(\"Month\")\n",
    "plt.ylabel(\"Amount (in Euros)\")\n",
    "plt.show()"
   ]
  },
  {
   "cell_type": "markdown",
   "id": "e2eeab0e",
   "metadata": {},
   "source": [
    "### Profit Margins"
   ]
  },
  {
   "cell_type": "code",
   "execution_count": 32,
   "id": "9816bb0a",
   "metadata": {},
   "outputs": [
    {
     "data": {
      "text/plain": [
       "<matplotlib.lines.Line2D at 0x7fec98177b80>"
      ]
     },
     "execution_count": 32,
     "metadata": {},
     "output_type": "execute_result"
    },
    {
     "data": {
      "image/png": "[encoded data removed]",
      "text/plain": [
       "<Figure size 1440x360 with 1 Axes>"
      ]
     },
     "metadata": {
      "needs_background": "light"
     },
     "output_type": "display_data"
    }
   ],
   "source": [
    "#Calculate total revenue and expenses for each month\n",
    "revenue = monthly_totals[monthly_totals > 0].groupby(level=0).sum()\n",
    "expenses = abs(monthly_totals[monthly_totals < 0].groupby(level=0).sum())\n",
    "profit = revenue - expenses\n",
    "profit_margin = (profit / revenue) * 100\n",
    "profit_margin.plot(kind=\"bar\",figsize=(20,5), title='Profit Margin by Month')\n",
    "plt.axhline(0, color='red', linestyle='--')"
   ]
  },
  {
   "cell_type": "markdown",
   "id": "5c5a5d37",
   "metadata": {},
   "source": [
    "-----\n",
    "Based on these figures:\n",
    "\n",
    "- Company experienced a profitable month in January (41.932251) but experienced negative margins in the next 5 months (February to June). The company then experienced a profitable month in May (25.865811) and slightly profitable or breakeven months in July and October (7.421775). The remaining months showed negative margins.\n",
    "\n",
    "- This information suggests that the company might to review its operations and find ways to improve profitability, especially during the months where negative margins are reported.\n",
    "\n",
    "- Although, Salaries haven't been given to the workers starting from the month of JULY, company is still struggling to make profits.\n",
    "-----"
   ]
  },
  {
   "cell_type": "code",
   "execution_count": 33,
   "id": "794fb5cf",
   "metadata": {},
   "outputs": [],
   "source": [
    "income = monthly_totals_test[monthly_totals_test['categoria'].isin(['INVOICE COLLECTION'])].groupby('month')['amount'].sum()\n",
    "debt = monthly_totals_test[monthly_totals_test['categoria'].isin(['FINANCING REFUND'])].groupby('month')['amount'].sum()"
   ]
  },
  {
   "cell_type": "code",
   "execution_count": 34,
   "id": "c53d5a00",
   "metadata": {},
   "outputs": [
    {
     "data": {
      "text/plain": [
       "363533.46"
      ]
     },
     "execution_count": 34,
     "metadata": {},
     "output_type": "execute_result"
    }
   ],
   "source": [
    "income[0:12].sum()"
   ]
  },
  {
   "cell_type": "code",
   "execution_count": 35,
   "id": "810012d4",
   "metadata": {},
   "outputs": [],
   "source": [
    "InterestCoverageRatio_1 = income[0:3].sum() / abs(debt[0:3].sum())\n",
    "InterestCoverageRatio_2 = income[3:6].sum() / abs(debt[3:6].sum())\n",
    "InterestCoverageRatio_3 = income[6:9].sum() / abs(debt[6:9].sum())\n",
    "InterestCoverageRatio_4 = income[9:13].sum() / abs(debt[9:12].sum())\n",
    "# 10,000 EUROS that had been received in 2022, and 139,241 Euros to be paid in 2022, and 2000 of interest on the funding\n",
    "DebtToIncomeRatio = income[0:12].sum() / (139241 + 10000 + 2000) "
   ]
  },
  {
   "cell_type": "code",
   "execution_count": 61,
   "id": "c847ef51",
   "metadata": {},
   "outputs": [
    {
     "name": "stdout",
     "output_type": "stream",
     "text": [
      "-----------------------------------------------------------------\n",
      "In interest Coverage Ratio, we only used the FINANCE REFUND as out payment, therefore this by itself shouldn't be used to make a decision.\n",
      "-----------------------------------------------------------------\n",
      "The interest coverage ratio is a debt and profitability ratio used to determine how easily a company can pay interest on its outstanding debt.\n",
      "-----------------------------------------------------------------\n",
      "An interest coverage ratio of 1.5 is generally considered a minimum acceptable ratio for a company and the tipping point below which lenders will likely refuse to lend the company more money, as the company’s risk for default may be perceived as too high.\n",
      "-----------------------------------------------------------------\n",
      "Interest Coverage Ratio First Quarter: 16.018525\n",
      "Interest Coverage Ratio Second Quarter: 18.943097560975612\n",
      "Interest Coverage Ratio Third Quarter: 19.150333333333336\n",
      "Interest Coverage Ratio Fourth Quarter: 25.594778431372546\n",
      "-----------------------------------------------------------------\n",
      "debt-to-income ratio (DTI) compares how much company owes each month to how much it earns.\n",
      "-----------------------------------------------------------------\n",
      "Debt To Income Ratio: 2.4036700365641592  - This DTI is super high\n",
      "-----------------------------------------------------------------\n"
     ]
    }
   ],
   "source": [
    "print(\"-----------------------------------------------------------------\")\n",
    "print(\"In interest Coverage Ratio, we only used the FINANCE REFUND as out payment, therefore this by itself shouldn't be used to make a decision.\")\n",
    "print(\"-----------------------------------------------------------------\")\n",
    "print(\"The interest coverage ratio is a debt and profitability ratio used to determine how easily a company can pay interest on its outstanding debt.\")\n",
    "print(\"-----------------------------------------------------------------\")\n",
    "print(\"An interest coverage ratio of 1.5 is generally considered a minimum acceptable ratio for a company and the tipping point below which lenders will likely refuse to lend the company more money, as the company’s risk for default may be perceived as too high.\")\n",
    "print(\"-----------------------------------------------------------------\")\n",
    "print(\"Interest Coverage Ratio First Quarter:\",InterestCoverageRatio_1 )\n",
    "print(\"Interest Coverage Ratio Second Quarter:\",InterestCoverageRatio_2 )\n",
    "print(\"Interest Coverage Ratio Third Quarter:\",InterestCoverageRatio_3 )\n",
    "print(\"Interest Coverage Ratio Fourth Quarter:\",InterestCoverageRatio_4 )\n",
    "print(\"-----------------------------------------------------------------\")\n",
    "print(\"debt-to-income ratio (DTI) compares how much company owes each month to how much it earns.\")\n",
    "print(\"-----------------------------------------------------------------\")\n",
    "print(\"Debt To Income Ratio:\", DebtToIncomeRatio , \" - This DTI is super high\")\n",
    "print(\"-----------------------------------------------------------------\")\n"
   ]
  },
  {
   "cell_type": "markdown",
   "id": "72ffb65d",
   "metadata": {},
   "source": [
    "-----\n",
    "<p> Below is taken from investopedia.com</p>\n",
    "\n",
    "- As a general guideline, 43% is the highest DTI ratio a borrower can have and still get qualified. Ideally, lenders prefer a debt-to-income ratio lower than 36%, with no more than 28% of that debt.\n",
    "\n",
    "- The maximum DTI ratio varies from lender to lender.\n",
    "\n",
    "-----"
   ]
  },
  {
   "cell_type": "code",
   "execution_count": 72,
   "id": "4f941934",
   "metadata": {},
   "outputs": [
    {
     "name": "stdout",
     "output_type": "stream",
     "text": [
      "------------------------------------------\n",
      "Max Monthly Payment that a company can pay:  583\n",
      "------------------------------------------\n",
      "Hypothetical max grant: 138365 - (This is just the difference between liabilities and the income. Supplier payments are too high, therfore this amount of grant can't be lended.)\n",
      "------------------------------------------\n",
      "Total Liabilities of the company from the filed 2021 statament : 225168\n",
      "------------------------------------------\n",
      "Supplier expenses in 2022: 253042\n",
      "------------------------------------------\n",
      "Income of the year 2022 minus the supplier expenses : 110491\n",
      "------------------------------------------\n"
     ]
    }
   ],
   "source": [
    "# Total Liabilities that are present in the filed financial statement of 202\n",
    "\n",
    "# Long term, but since this is from 2021, the metric matters for us in 2023.\n",
    "liabilities = 225168 \n",
    "# Check what is the monthly expenses in 2022.\n",
    "monthly_expenses = expenses.sum()\n",
    "# Supplier Expenses\n",
    "supplier_expenses_int = int(abs(supplier_expenses.sum()))\n",
    "\n",
    "print(\"------------------------------------------\")\n",
    "# Calculation\n",
    "# If we assume that total liabilities of the company also includes the supplier payments of each month in 2022.\n",
    "max_monthly_payment = int(7000 / 12)\n",
    "max_grant = int(income[0:12].sum() - liabilities)\n",
    "remaining_amount_after_supplier = income[0:12].sum()- supplier_expenses_int\n",
    "\n",
    "print(\"Max Monthly Payment that a company can pay: \",max_monthly_payment)\n",
    "print(\"------------------------------------------\")\n",
    "print(\"Hypothetical max grant:\",max_grant, \"- (This is just the difference between liabilities and the income. Supplier payments are too high, therfore this amount of grant can't be lended.)\")\n",
    "print(\"------------------------------------------\")\n",
    "print(\"Total Liabilities of the company from the filed 2021 statament :\", 225168)\n",
    "print(\"------------------------------------------\")\n",
    "print(\"Supplier expenses in 2022:\", supplier_expenses_int)\n",
    "print(\"------------------------------------------\")\n",
    "print(\"Income of the year 2022 minus the supplier expenses :\",int(remaining_amount_after_supplier))\n",
    "print(\"------------------------------------------\")\n",
    "\n",
    "\n",
    "\n"
   ]
  },
  {
   "cell_type": "markdown",
   "id": "bb98fb19",
   "metadata": {},
   "source": [
    "### Conclusion"
   ]
  },
  {
   "cell_type": "markdown",
   "id": "ae6158d1",
   "metadata": {},
   "source": [
    "-----\n",
    "\n",
    "<h4>Based on the findings here is a summary.</h4>\n",
    "\n",
    "- In 2021, The ABC company has a negative shareholders equity profit loss of <b>€94,264</b>, indicating that it has not generated a profit for the year 2021. <br><br>\n",
    "\n",
    "- Company may have struggled from COVID-19 Outbreak in 2020, which they still see the effects on 2021.\n",
    "<br><br>\n",
    "\n",
    "- Its solvency metrics, such as the <b>Debt to Asset Ratio</b> of 0.00618 and <b>Debt to Equity Ratio</b> of <b>1.62</b>, suggest that the company has a small portion of its assets financed by debt but a higher debt burden compared to its equity. Its liquidity metrics, such as the <b>Current Ratio</b> of <b>1.06</b> and <b>Quick Ratio</b> of <b>0.42</b>, indicate that the company has sufficient current assets to cover its short-term obligations, but may face difficulties in meeting its immediate cash obligations in the event of a crisis.<br><br>\n",
    "\n",
    "- In 2022, The company seems to have a steady increase in net cash flow after the 6th month of the year 2022, with an overall net profit of <b>€7,525</b>. Invoice collection has a steady upward trend throughout the year and the company's expenses have increased as the months pass, especially after the 6th month. The company had debts due within the following year(2021) of <b>€139,241</b>, but only <b>€17,000</b> of it has been repaid according to the transactions given for (2022).<br><br>\n",
    "\n",
    "- In 2022, The sudden decrease in the net cash flow in the 2nd and 6th months, the non-payment of salaries after July, and the variation in supplier payments, utilities expenses, and invoice collection, suggest that the company may be facing financial difficulties. This, along with the negative return on equity, and the moderate amount of debt financing relative to equity, raises concerns for the lender in granting the short term funding request.<br><br>\n",
    "\n",
    "- It seems that the coming Funding of <b> €10,000</b> has <b> €500</b> monthly payment. The Interest range of Invoice factoring or financing ranges between 10% and 70%, the monthly payment of <b>€500</b> in 24 months would not be wrong to assume this case.<br><br>\n",
    "\n",
    "-  We can also say that the company has generated more income than it's total liabilities from the previous year(2022), but, at the same time, company spends good amount of money on supplier. As the good increases, the supplier payments also goes up.<br><br>\n",
    "\n",
    "- According to all the metrics we have calculated, It would be risky to accept funding request from the ABC company given that they the company has High DBTI ratio, negative cashflow in 8 months out of 12, given also that the company has not been generated profit in 2021, and only 7,000 euro profit in the 2022.<br><br> \n",
    "\n",
    "- Although the metrics suggest that company could struggle for short term liquidity events, according to the cashflow, the company still can survive with a maximum monthly payment around <b>€500</b>. We need to take into account that in 2020 there was a covid outbreak, in 2021, they still had it's effects, and in 2022 we see that company made profit even if it's not too high. As the macro economical condition and consumer behaviours change, in this new coming year, company has a chance of making more profit and see the continuation of it's up-trend. (2021:-94,000, 2022: +7,000)\n",
    "    \n",
    "    \n",
    "- So when we think about all the factors, with an interest rate of yearly 20% we can lend 5,000 Euros for 12 months, in return, we get 1,000 Euros in profit. \n",
    "\n",
    "-----"
   ]
  },
  {
   "cell_type": "code",
   "execution_count": null,
   "id": "ca9ceb20",
   "metadata": {},
   "outputs": [],
   "source": []
  }
 ],
 "metadata": {
  "kernelspec": {
   "display_name": "Lqt",
   "language": "python",
   "name": "lqt"
  },
  "language_info": {
   "codemirror_mode": {
    "name": "ipython",
    "version": 3
   },
   "file_extension": ".py",
   "mimetype": "text/x-python",
   "name": "python",
   "nbconvert_exporter": "python",
   "pygments_lexer": "ipython3",
   "version": "3.10.9"
  }
 },
 "nbformat": 4,
 "nbformat_minor": 5
}
